{
 "cells": [
  {
   "cell_type": "markdown",
   "id": "fa66a9c9",
   "metadata": {
    "papermill": {
     "duration": 0.014153,
     "end_time": "2023-04-29T13:29:31.248114",
     "exception": false,
     "start_time": "2023-04-29T13:29:31.233961",
     "status": "completed"
    },
    "tags": []
   },
   "source": [
    "# Analítica computacional para la toma de decisiones\n",
    "\n",
    "Departamento de Ingeniería Industrial\n",
    "\n",
    "Universidad de los Andes"
   ]
  },
  {
   "cell_type": "markdown",
   "id": "83f39106",
   "metadata": {},
   "source": [
    "## Exploración de datos en python"
   ]
  },
  {
   "cell_type": "markdown",
   "id": "f9418b2a",
   "metadata": {
    "papermill": {
     "duration": 0.012662,
     "end_time": "2023-04-29T13:29:31.273772",
     "exception": false,
     "start_time": "2023-04-29T13:29:31.261110",
     "status": "completed"
    },
    "tags": []
   },
   "source": [
    "### Importar Libraries"
   ]
  },
  {
   "cell_type": "code",
   "execution_count": 1,
   "id": "f98d0106",
   "metadata": {
    "execution": {
     "iopub.execute_input": "2023-04-29T13:29:31.302138Z",
     "iopub.status.busy": "2023-04-29T13:29:31.301405Z",
     "iopub.status.idle": "2023-04-29T13:29:33.164112Z",
     "shell.execute_reply": "2023-04-29T13:29:33.162399Z"
    },
    "papermill": {
     "duration": 1.880783,
     "end_time": "2023-04-29T13:29:33.167438",
     "exception": false,
     "start_time": "2023-04-29T13:29:31.286655",
     "status": "completed"
    },
    "tags": []
   },
   "outputs": [],
   "source": [
    "import numpy as np\n",
    "import pandas as pd"
   ]
  },
  {
   "cell_type": "markdown",
   "id": "65f164b0",
   "metadata": {
    "papermill": {
     "duration": 0.013005,
     "end_time": "2023-04-29T13:29:33.195383",
     "exception": false,
     "start_time": "2023-04-29T13:29:33.182378",
     "status": "completed"
    },
    "tags": []
   },
   "source": [
    "### Importar Dataset"
   ]
  },
  {
   "cell_type": "code",
   "execution_count": 3,
   "id": "a9a7ce94",
   "metadata": {},
   "outputs": [],
   "source": [
    "df = pd.read_csv('.\\\\BankChurn.csv')\n"
   ]
  },
  {
   "cell_type": "code",
   "execution_count": 4,
   "id": "159cc7e7",
   "metadata": {},
   "outputs": [
    {
     "data": {
      "text/plain": [
       "(10127, 20)"
      ]
     },
     "execution_count": 4,
     "metadata": {},
     "output_type": "execute_result"
    }
   ],
   "source": [
    "df.shape"
   ]
  },
  {
   "cell_type": "code",
   "execution_count": 5,
   "id": "b3afe95d",
   "metadata": {},
   "outputs": [
    {
     "data": {
      "text/html": [
       "<div>\n",
       "<style scoped>\n",
       "    .dataframe tbody tr th:only-of-type {\n",
       "        vertical-align: middle;\n",
       "    }\n",
       "\n",
       "    .dataframe tbody tr th {\n",
       "        vertical-align: top;\n",
       "    }\n",
       "\n",
       "    .dataframe thead th {\n",
       "        text-align: right;\n",
       "    }\n",
       "</style>\n",
       "<table border=\"1\" class=\"dataframe\">\n",
       "  <thead>\n",
       "    <tr style=\"text-align: right;\">\n",
       "      <th></th>\n",
       "      <th>Attrition_Flag</th>\n",
       "      <th>Customer_Age</th>\n",
       "      <th>Gender</th>\n",
       "      <th>Dependent_count</th>\n",
       "      <th>Education_Level</th>\n",
       "      <th>Marital_Status</th>\n",
       "      <th>Income_Category</th>\n",
       "      <th>Card_Category</th>\n",
       "      <th>Months_on_book</th>\n",
       "      <th>Total_Relationship_Count</th>\n",
       "      <th>Months_Inactive_12_mon</th>\n",
       "      <th>Contacts_Count_12_mon</th>\n",
       "      <th>Credit_Limit</th>\n",
       "      <th>Total_Revolving_Bal</th>\n",
       "      <th>Avg_Open_To_Buy</th>\n",
       "      <th>Total_Amt_Chng_Q4_Q1</th>\n",
       "      <th>Total_Trans_Amt</th>\n",
       "      <th>Total_Trans_Ct</th>\n",
       "      <th>Total_Ct_Chng_Q4_Q1</th>\n",
       "      <th>Avg_Utilization_Ratio</th>\n",
       "    </tr>\n",
       "  </thead>\n",
       "  <tbody>\n",
       "    <tr>\n",
       "      <th>0</th>\n",
       "      <td>Existing Customer</td>\n",
       "      <td>45</td>\n",
       "      <td>M</td>\n",
       "      <td>3</td>\n",
       "      <td>High School</td>\n",
       "      <td>Married</td>\n",
       "      <td>$60K - $80K</td>\n",
       "      <td>Blue</td>\n",
       "      <td>39</td>\n",
       "      <td>5</td>\n",
       "      <td>1</td>\n",
       "      <td>3</td>\n",
       "      <td>12691.0</td>\n",
       "      <td>777</td>\n",
       "      <td>11914.0</td>\n",
       "      <td>1.335</td>\n",
       "      <td>1144</td>\n",
       "      <td>42</td>\n",
       "      <td>1.625</td>\n",
       "      <td>0.061</td>\n",
       "    </tr>\n",
       "    <tr>\n",
       "      <th>1</th>\n",
       "      <td>Existing Customer</td>\n",
       "      <td>49</td>\n",
       "      <td>F</td>\n",
       "      <td>5</td>\n",
       "      <td>Graduate</td>\n",
       "      <td>Single</td>\n",
       "      <td>Less than $40K</td>\n",
       "      <td>Blue</td>\n",
       "      <td>44</td>\n",
       "      <td>6</td>\n",
       "      <td>1</td>\n",
       "      <td>2</td>\n",
       "      <td>8256.0</td>\n",
       "      <td>864</td>\n",
       "      <td>7392.0</td>\n",
       "      <td>1.541</td>\n",
       "      <td>1291</td>\n",
       "      <td>33</td>\n",
       "      <td>3.714</td>\n",
       "      <td>0.105</td>\n",
       "    </tr>\n",
       "    <tr>\n",
       "      <th>2</th>\n",
       "      <td>Existing Customer</td>\n",
       "      <td>51</td>\n",
       "      <td>M</td>\n",
       "      <td>3</td>\n",
       "      <td>Graduate</td>\n",
       "      <td>Married</td>\n",
       "      <td>$80K - $120K</td>\n",
       "      <td>Blue</td>\n",
       "      <td>36</td>\n",
       "      <td>4</td>\n",
       "      <td>1</td>\n",
       "      <td>0</td>\n",
       "      <td>3418.0</td>\n",
       "      <td>0</td>\n",
       "      <td>3418.0</td>\n",
       "      <td>2.594</td>\n",
       "      <td>1887</td>\n",
       "      <td>20</td>\n",
       "      <td>2.333</td>\n",
       "      <td>0.000</td>\n",
       "    </tr>\n",
       "    <tr>\n",
       "      <th>3</th>\n",
       "      <td>Existing Customer</td>\n",
       "      <td>40</td>\n",
       "      <td>F</td>\n",
       "      <td>4</td>\n",
       "      <td>High School</td>\n",
       "      <td>Unknown</td>\n",
       "      <td>Less than $40K</td>\n",
       "      <td>Blue</td>\n",
       "      <td>34</td>\n",
       "      <td>3</td>\n",
       "      <td>4</td>\n",
       "      <td>1</td>\n",
       "      <td>3313.0</td>\n",
       "      <td>2517</td>\n",
       "      <td>796.0</td>\n",
       "      <td>1.405</td>\n",
       "      <td>1171</td>\n",
       "      <td>20</td>\n",
       "      <td>2.333</td>\n",
       "      <td>0.760</td>\n",
       "    </tr>\n",
       "    <tr>\n",
       "      <th>4</th>\n",
       "      <td>Existing Customer</td>\n",
       "      <td>40</td>\n",
       "      <td>M</td>\n",
       "      <td>3</td>\n",
       "      <td>Uneducated</td>\n",
       "      <td>Married</td>\n",
       "      <td>$60K - $80K</td>\n",
       "      <td>Blue</td>\n",
       "      <td>21</td>\n",
       "      <td>5</td>\n",
       "      <td>1</td>\n",
       "      <td>0</td>\n",
       "      <td>4716.0</td>\n",
       "      <td>0</td>\n",
       "      <td>4716.0</td>\n",
       "      <td>2.175</td>\n",
       "      <td>816</td>\n",
       "      <td>28</td>\n",
       "      <td>2.500</td>\n",
       "      <td>0.000</td>\n",
       "    </tr>\n",
       "  </tbody>\n",
       "</table>\n",
       "</div>"
      ],
      "text/plain": [
       "      Attrition_Flag  Customer_Age Gender  Dependent_count Education_Level  \\\n",
       "0  Existing Customer            45      M                3     High School   \n",
       "1  Existing Customer            49      F                5        Graduate   \n",
       "2  Existing Customer            51      M                3        Graduate   \n",
       "3  Existing Customer            40      F                4     High School   \n",
       "4  Existing Customer            40      M                3      Uneducated   \n",
       "\n",
       "  Marital_Status Income_Category Card_Category  Months_on_book  \\\n",
       "0        Married     $60K - $80K          Blue              39   \n",
       "1         Single  Less than $40K          Blue              44   \n",
       "2        Married    $80K - $120K          Blue              36   \n",
       "3        Unknown  Less than $40K          Blue              34   \n",
       "4        Married     $60K - $80K          Blue              21   \n",
       "\n",
       "   Total_Relationship_Count  Months_Inactive_12_mon  Contacts_Count_12_mon  \\\n",
       "0                         5                       1                      3   \n",
       "1                         6                       1                      2   \n",
       "2                         4                       1                      0   \n",
       "3                         3                       4                      1   \n",
       "4                         5                       1                      0   \n",
       "\n",
       "   Credit_Limit  Total_Revolving_Bal  Avg_Open_To_Buy  Total_Amt_Chng_Q4_Q1  \\\n",
       "0       12691.0                  777          11914.0                 1.335   \n",
       "1        8256.0                  864           7392.0                 1.541   \n",
       "2        3418.0                    0           3418.0                 2.594   \n",
       "3        3313.0                 2517            796.0                 1.405   \n",
       "4        4716.0                    0           4716.0                 2.175   \n",
       "\n",
       "   Total_Trans_Amt  Total_Trans_Ct  Total_Ct_Chng_Q4_Q1  Avg_Utilization_Ratio  \n",
       "0             1144              42                1.625                  0.061  \n",
       "1             1291              33                3.714                  0.105  \n",
       "2             1887              20                2.333                  0.000  \n",
       "3             1171              20                2.333                  0.760  \n",
       "4              816              28                2.500                  0.000  "
      ]
     },
     "execution_count": 5,
     "metadata": {},
     "output_type": "execute_result"
    }
   ],
   "source": [
    "df.head()"
   ]
  },
  {
   "cell_type": "code",
   "execution_count": 6,
   "id": "5b81bf5f",
   "metadata": {},
   "outputs": [
    {
     "data": {
      "text/plain": [
       "array(['High School', 'Graduate', 'Uneducated', 'Unknown', 'College',\n",
       "       'Post-Graduate', 'Doctorate'], dtype=object)"
      ]
     },
     "execution_count": 6,
     "metadata": {},
     "output_type": "execute_result"
    }
   ],
   "source": [
    "df[\"Education_Level\"].unique()"
   ]
  },
  {
   "cell_type": "code",
   "execution_count": 7,
   "id": "96f27a7e",
   "metadata": {},
   "outputs": [
    {
     "data": {
      "text/html": [
       "<div>\n",
       "<style scoped>\n",
       "    .dataframe tbody tr th:only-of-type {\n",
       "        vertical-align: middle;\n",
       "    }\n",
       "\n",
       "    .dataframe tbody tr th {\n",
       "        vertical-align: top;\n",
       "    }\n",
       "\n",
       "    .dataframe thead th {\n",
       "        text-align: right;\n",
       "    }\n",
       "</style>\n",
       "<table border=\"1\" class=\"dataframe\">\n",
       "  <thead>\n",
       "    <tr style=\"text-align: right;\">\n",
       "      <th></th>\n",
       "      <th>Attrition_Flag</th>\n",
       "      <th>Customer_Age</th>\n",
       "      <th>Gender</th>\n",
       "      <th>Dependent_count</th>\n",
       "      <th>Marital_Status</th>\n",
       "      <th>Income_Category</th>\n",
       "      <th>Card_Category</th>\n",
       "      <th>Months_on_book</th>\n",
       "      <th>Total_Relationship_Count</th>\n",
       "      <th>Months_Inactive_12_mon</th>\n",
       "      <th>Contacts_Count_12_mon</th>\n",
       "      <th>Credit_Limit</th>\n",
       "      <th>Total_Revolving_Bal</th>\n",
       "      <th>Avg_Open_To_Buy</th>\n",
       "      <th>Total_Amt_Chng_Q4_Q1</th>\n",
       "      <th>Total_Trans_Amt</th>\n",
       "      <th>Total_Trans_Ct</th>\n",
       "      <th>Total_Ct_Chng_Q4_Q1</th>\n",
       "      <th>Avg_Utilization_Ratio</th>\n",
       "    </tr>\n",
       "    <tr>\n",
       "      <th>Education_Level</th>\n",
       "      <th></th>\n",
       "      <th></th>\n",
       "      <th></th>\n",
       "      <th></th>\n",
       "      <th></th>\n",
       "      <th></th>\n",
       "      <th></th>\n",
       "      <th></th>\n",
       "      <th></th>\n",
       "      <th></th>\n",
       "      <th></th>\n",
       "      <th></th>\n",
       "      <th></th>\n",
       "      <th></th>\n",
       "      <th></th>\n",
       "      <th></th>\n",
       "      <th></th>\n",
       "      <th></th>\n",
       "      <th></th>\n",
       "    </tr>\n",
       "  </thead>\n",
       "  <tbody>\n",
       "    <tr>\n",
       "      <th>College</th>\n",
       "      <td>1013</td>\n",
       "      <td>1013</td>\n",
       "      <td>1013</td>\n",
       "      <td>1013</td>\n",
       "      <td>1013</td>\n",
       "      <td>1013</td>\n",
       "      <td>1013</td>\n",
       "      <td>1013</td>\n",
       "      <td>1013</td>\n",
       "      <td>1013</td>\n",
       "      <td>1013</td>\n",
       "      <td>1013</td>\n",
       "      <td>1013</td>\n",
       "      <td>1013</td>\n",
       "      <td>1013</td>\n",
       "      <td>1013</td>\n",
       "      <td>1013</td>\n",
       "      <td>1013</td>\n",
       "      <td>1013</td>\n",
       "    </tr>\n",
       "    <tr>\n",
       "      <th>Doctorate</th>\n",
       "      <td>451</td>\n",
       "      <td>451</td>\n",
       "      <td>451</td>\n",
       "      <td>451</td>\n",
       "      <td>451</td>\n",
       "      <td>451</td>\n",
       "      <td>451</td>\n",
       "      <td>451</td>\n",
       "      <td>451</td>\n",
       "      <td>451</td>\n",
       "      <td>451</td>\n",
       "      <td>451</td>\n",
       "      <td>451</td>\n",
       "      <td>451</td>\n",
       "      <td>451</td>\n",
       "      <td>451</td>\n",
       "      <td>451</td>\n",
       "      <td>451</td>\n",
       "      <td>451</td>\n",
       "    </tr>\n",
       "    <tr>\n",
       "      <th>Graduate</th>\n",
       "      <td>3128</td>\n",
       "      <td>3128</td>\n",
       "      <td>3128</td>\n",
       "      <td>3128</td>\n",
       "      <td>3128</td>\n",
       "      <td>3128</td>\n",
       "      <td>3128</td>\n",
       "      <td>3128</td>\n",
       "      <td>3128</td>\n",
       "      <td>3128</td>\n",
       "      <td>3128</td>\n",
       "      <td>3128</td>\n",
       "      <td>3128</td>\n",
       "      <td>3128</td>\n",
       "      <td>3128</td>\n",
       "      <td>3128</td>\n",
       "      <td>3128</td>\n",
       "      <td>3128</td>\n",
       "      <td>3128</td>\n",
       "    </tr>\n",
       "    <tr>\n",
       "      <th>High School</th>\n",
       "      <td>2013</td>\n",
       "      <td>2013</td>\n",
       "      <td>2013</td>\n",
       "      <td>2013</td>\n",
       "      <td>2013</td>\n",
       "      <td>2013</td>\n",
       "      <td>2013</td>\n",
       "      <td>2013</td>\n",
       "      <td>2013</td>\n",
       "      <td>2013</td>\n",
       "      <td>2013</td>\n",
       "      <td>2013</td>\n",
       "      <td>2013</td>\n",
       "      <td>2013</td>\n",
       "      <td>2013</td>\n",
       "      <td>2013</td>\n",
       "      <td>2013</td>\n",
       "      <td>2013</td>\n",
       "      <td>2013</td>\n",
       "    </tr>\n",
       "    <tr>\n",
       "      <th>Post-Graduate</th>\n",
       "      <td>516</td>\n",
       "      <td>516</td>\n",
       "      <td>516</td>\n",
       "      <td>516</td>\n",
       "      <td>516</td>\n",
       "      <td>516</td>\n",
       "      <td>516</td>\n",
       "      <td>516</td>\n",
       "      <td>516</td>\n",
       "      <td>516</td>\n",
       "      <td>516</td>\n",
       "      <td>516</td>\n",
       "      <td>516</td>\n",
       "      <td>516</td>\n",
       "      <td>516</td>\n",
       "      <td>516</td>\n",
       "      <td>516</td>\n",
       "      <td>516</td>\n",
       "      <td>516</td>\n",
       "    </tr>\n",
       "    <tr>\n",
       "      <th>Uneducated</th>\n",
       "      <td>1487</td>\n",
       "      <td>1487</td>\n",
       "      <td>1487</td>\n",
       "      <td>1487</td>\n",
       "      <td>1487</td>\n",
       "      <td>1487</td>\n",
       "      <td>1487</td>\n",
       "      <td>1487</td>\n",
       "      <td>1487</td>\n",
       "      <td>1487</td>\n",
       "      <td>1487</td>\n",
       "      <td>1487</td>\n",
       "      <td>1487</td>\n",
       "      <td>1487</td>\n",
       "      <td>1487</td>\n",
       "      <td>1487</td>\n",
       "      <td>1487</td>\n",
       "      <td>1487</td>\n",
       "      <td>1487</td>\n",
       "    </tr>\n",
       "    <tr>\n",
       "      <th>Unknown</th>\n",
       "      <td>1519</td>\n",
       "      <td>1519</td>\n",
       "      <td>1519</td>\n",
       "      <td>1519</td>\n",
       "      <td>1519</td>\n",
       "      <td>1519</td>\n",
       "      <td>1519</td>\n",
       "      <td>1519</td>\n",
       "      <td>1519</td>\n",
       "      <td>1519</td>\n",
       "      <td>1519</td>\n",
       "      <td>1519</td>\n",
       "      <td>1519</td>\n",
       "      <td>1519</td>\n",
       "      <td>1519</td>\n",
       "      <td>1519</td>\n",
       "      <td>1519</td>\n",
       "      <td>1519</td>\n",
       "      <td>1519</td>\n",
       "    </tr>\n",
       "  </tbody>\n",
       "</table>\n",
       "</div>"
      ],
      "text/plain": [
       "                 Attrition_Flag  Customer_Age  Gender  Dependent_count  \\\n",
       "Education_Level                                                          \n",
       "College                    1013          1013    1013             1013   \n",
       "Doctorate                   451           451     451              451   \n",
       "Graduate                   3128          3128    3128             3128   \n",
       "High School                2013          2013    2013             2013   \n",
       "Post-Graduate               516           516     516              516   \n",
       "Uneducated                 1487          1487    1487             1487   \n",
       "Unknown                    1519          1519    1519             1519   \n",
       "\n",
       "                 Marital_Status  Income_Category  Card_Category  \\\n",
       "Education_Level                                                   \n",
       "College                    1013             1013           1013   \n",
       "Doctorate                   451              451            451   \n",
       "Graduate                   3128             3128           3128   \n",
       "High School                2013             2013           2013   \n",
       "Post-Graduate               516              516            516   \n",
       "Uneducated                 1487             1487           1487   \n",
       "Unknown                    1519             1519           1519   \n",
       "\n",
       "                 Months_on_book  Total_Relationship_Count  \\\n",
       "Education_Level                                             \n",
       "College                    1013                      1013   \n",
       "Doctorate                   451                       451   \n",
       "Graduate                   3128                      3128   \n",
       "High School                2013                      2013   \n",
       "Post-Graduate               516                       516   \n",
       "Uneducated                 1487                      1487   \n",
       "Unknown                    1519                      1519   \n",
       "\n",
       "                 Months_Inactive_12_mon  Contacts_Count_12_mon  Credit_Limit  \\\n",
       "Education_Level                                                                \n",
       "College                            1013                   1013          1013   \n",
       "Doctorate                           451                    451           451   \n",
       "Graduate                           3128                   3128          3128   \n",
       "High School                        2013                   2013          2013   \n",
       "Post-Graduate                       516                    516           516   \n",
       "Uneducated                         1487                   1487          1487   \n",
       "Unknown                            1519                   1519          1519   \n",
       "\n",
       "                 Total_Revolving_Bal  Avg_Open_To_Buy  Total_Amt_Chng_Q4_Q1  \\\n",
       "Education_Level                                                               \n",
       "College                         1013             1013                  1013   \n",
       "Doctorate                        451              451                   451   \n",
       "Graduate                        3128             3128                  3128   \n",
       "High School                     2013             2013                  2013   \n",
       "Post-Graduate                    516              516                   516   \n",
       "Uneducated                      1487             1487                  1487   \n",
       "Unknown                         1519             1519                  1519   \n",
       "\n",
       "                 Total_Trans_Amt  Total_Trans_Ct  Total_Ct_Chng_Q4_Q1  \\\n",
       "Education_Level                                                         \n",
       "College                     1013            1013                 1013   \n",
       "Doctorate                    451             451                  451   \n",
       "Graduate                    3128            3128                 3128   \n",
       "High School                 2013            2013                 2013   \n",
       "Post-Graduate                516             516                  516   \n",
       "Uneducated                  1487            1487                 1487   \n",
       "Unknown                     1519            1519                 1519   \n",
       "\n",
       "                 Avg_Utilization_Ratio  \n",
       "Education_Level                         \n",
       "College                           1013  \n",
       "Doctorate                          451  \n",
       "Graduate                          3128  \n",
       "High School                       2013  \n",
       "Post-Graduate                      516  \n",
       "Uneducated                        1487  \n",
       "Unknown                           1519  "
      ]
     },
     "execution_count": 7,
     "metadata": {},
     "output_type": "execute_result"
    }
   ],
   "source": [
    "df.groupby([\"Education_Level\"]).count()"
   ]
  },
  {
   "cell_type": "code",
   "execution_count": 8,
   "id": "64dfce41",
   "metadata": {},
   "outputs": [
    {
     "data": {
      "text/plain": [
       "Education_Level\n",
       "Graduate         3128\n",
       "High School      2013\n",
       "Unknown          1519\n",
       "Uneducated       1487\n",
       "College          1013\n",
       "Post-Graduate     516\n",
       "Doctorate         451\n",
       "Name: count, dtype: int64"
      ]
     },
     "execution_count": 8,
     "metadata": {},
     "output_type": "execute_result"
    }
   ],
   "source": [
    "df[\"Education_Level\"].value_counts()"
   ]
  },
  {
   "cell_type": "code",
   "execution_count": 9,
   "id": "bd5524f1",
   "metadata": {
    "execution": {
     "iopub.execute_input": "2023-04-29T13:29:33.485637Z",
     "iopub.status.busy": "2023-04-29T13:29:33.485220Z",
     "iopub.status.idle": "2023-04-29T13:29:33.559629Z",
     "shell.execute_reply": "2023-04-29T13:29:33.558343Z"
    },
    "papermill": {
     "duration": 0.091931,
     "end_time": "2023-04-29T13:29:33.562112",
     "exception": false,
     "start_time": "2023-04-29T13:29:33.470181",
     "status": "completed"
    },
    "tags": []
   },
   "outputs": [
    {
     "data": {
      "text/html": [
       "<div>\n",
       "<style scoped>\n",
       "    .dataframe tbody tr th:only-of-type {\n",
       "        vertical-align: middle;\n",
       "    }\n",
       "\n",
       "    .dataframe tbody tr th {\n",
       "        vertical-align: top;\n",
       "    }\n",
       "\n",
       "    .dataframe thead th {\n",
       "        text-align: right;\n",
       "    }\n",
       "</style>\n",
       "<table border=\"1\" class=\"dataframe\">\n",
       "  <thead>\n",
       "    <tr style=\"text-align: right;\">\n",
       "      <th></th>\n",
       "      <th>Customer_Age</th>\n",
       "      <th>Dependent_count</th>\n",
       "      <th>Months_on_book</th>\n",
       "      <th>Total_Relationship_Count</th>\n",
       "      <th>Months_Inactive_12_mon</th>\n",
       "      <th>Contacts_Count_12_mon</th>\n",
       "      <th>Credit_Limit</th>\n",
       "      <th>Total_Revolving_Bal</th>\n",
       "      <th>Avg_Open_To_Buy</th>\n",
       "      <th>Total_Amt_Chng_Q4_Q1</th>\n",
       "      <th>Total_Trans_Amt</th>\n",
       "      <th>Total_Trans_Ct</th>\n",
       "      <th>Total_Ct_Chng_Q4_Q1</th>\n",
       "      <th>Avg_Utilization_Ratio</th>\n",
       "    </tr>\n",
       "  </thead>\n",
       "  <tbody>\n",
       "    <tr>\n",
       "      <th>count</th>\n",
       "      <td>10127.000000</td>\n",
       "      <td>10127.000000</td>\n",
       "      <td>10127.000000</td>\n",
       "      <td>10127.000000</td>\n",
       "      <td>10127.000000</td>\n",
       "      <td>10127.000000</td>\n",
       "      <td>10127.000000</td>\n",
       "      <td>10127.000000</td>\n",
       "      <td>10127.000000</td>\n",
       "      <td>10127.000000</td>\n",
       "      <td>10127.000000</td>\n",
       "      <td>10127.000000</td>\n",
       "      <td>10127.000000</td>\n",
       "      <td>10127.000000</td>\n",
       "    </tr>\n",
       "    <tr>\n",
       "      <th>mean</th>\n",
       "      <td>46.325960</td>\n",
       "      <td>2.346203</td>\n",
       "      <td>35.928409</td>\n",
       "      <td>3.812580</td>\n",
       "      <td>2.341167</td>\n",
       "      <td>2.455317</td>\n",
       "      <td>8631.953698</td>\n",
       "      <td>1162.814061</td>\n",
       "      <td>7469.139637</td>\n",
       "      <td>0.759941</td>\n",
       "      <td>4404.086304</td>\n",
       "      <td>64.858695</td>\n",
       "      <td>0.712222</td>\n",
       "      <td>0.274894</td>\n",
       "    </tr>\n",
       "    <tr>\n",
       "      <th>std</th>\n",
       "      <td>8.016814</td>\n",
       "      <td>1.298908</td>\n",
       "      <td>7.986416</td>\n",
       "      <td>1.554408</td>\n",
       "      <td>1.010622</td>\n",
       "      <td>1.106225</td>\n",
       "      <td>9088.776650</td>\n",
       "      <td>814.987335</td>\n",
       "      <td>9090.685324</td>\n",
       "      <td>0.219207</td>\n",
       "      <td>3397.129254</td>\n",
       "      <td>23.472570</td>\n",
       "      <td>0.238086</td>\n",
       "      <td>0.275691</td>\n",
       "    </tr>\n",
       "    <tr>\n",
       "      <th>min</th>\n",
       "      <td>26.000000</td>\n",
       "      <td>0.000000</td>\n",
       "      <td>13.000000</td>\n",
       "      <td>1.000000</td>\n",
       "      <td>0.000000</td>\n",
       "      <td>0.000000</td>\n",
       "      <td>1438.300000</td>\n",
       "      <td>0.000000</td>\n",
       "      <td>3.000000</td>\n",
       "      <td>0.000000</td>\n",
       "      <td>510.000000</td>\n",
       "      <td>10.000000</td>\n",
       "      <td>0.000000</td>\n",
       "      <td>0.000000</td>\n",
       "    </tr>\n",
       "    <tr>\n",
       "      <th>25%</th>\n",
       "      <td>41.000000</td>\n",
       "      <td>1.000000</td>\n",
       "      <td>31.000000</td>\n",
       "      <td>3.000000</td>\n",
       "      <td>2.000000</td>\n",
       "      <td>2.000000</td>\n",
       "      <td>2555.000000</td>\n",
       "      <td>359.000000</td>\n",
       "      <td>1324.500000</td>\n",
       "      <td>0.631000</td>\n",
       "      <td>2155.500000</td>\n",
       "      <td>45.000000</td>\n",
       "      <td>0.582000</td>\n",
       "      <td>0.023000</td>\n",
       "    </tr>\n",
       "    <tr>\n",
       "      <th>50%</th>\n",
       "      <td>46.000000</td>\n",
       "      <td>2.000000</td>\n",
       "      <td>36.000000</td>\n",
       "      <td>4.000000</td>\n",
       "      <td>2.000000</td>\n",
       "      <td>2.000000</td>\n",
       "      <td>4549.000000</td>\n",
       "      <td>1276.000000</td>\n",
       "      <td>3474.000000</td>\n",
       "      <td>0.736000</td>\n",
       "      <td>3899.000000</td>\n",
       "      <td>67.000000</td>\n",
       "      <td>0.702000</td>\n",
       "      <td>0.176000</td>\n",
       "    </tr>\n",
       "    <tr>\n",
       "      <th>75%</th>\n",
       "      <td>52.000000</td>\n",
       "      <td>3.000000</td>\n",
       "      <td>40.000000</td>\n",
       "      <td>5.000000</td>\n",
       "      <td>3.000000</td>\n",
       "      <td>3.000000</td>\n",
       "      <td>11067.500000</td>\n",
       "      <td>1784.000000</td>\n",
       "      <td>9859.000000</td>\n",
       "      <td>0.859000</td>\n",
       "      <td>4741.000000</td>\n",
       "      <td>81.000000</td>\n",
       "      <td>0.818000</td>\n",
       "      <td>0.503000</td>\n",
       "    </tr>\n",
       "    <tr>\n",
       "      <th>max</th>\n",
       "      <td>73.000000</td>\n",
       "      <td>5.000000</td>\n",
       "      <td>56.000000</td>\n",
       "      <td>6.000000</td>\n",
       "      <td>6.000000</td>\n",
       "      <td>6.000000</td>\n",
       "      <td>34516.000000</td>\n",
       "      <td>2517.000000</td>\n",
       "      <td>34516.000000</td>\n",
       "      <td>3.397000</td>\n",
       "      <td>18484.000000</td>\n",
       "      <td>139.000000</td>\n",
       "      <td>3.714000</td>\n",
       "      <td>0.999000</td>\n",
       "    </tr>\n",
       "  </tbody>\n",
       "</table>\n",
       "</div>"
      ],
      "text/plain": [
       "       Customer_Age  Dependent_count  Months_on_book  \\\n",
       "count  10127.000000     10127.000000    10127.000000   \n",
       "mean      46.325960         2.346203       35.928409   \n",
       "std        8.016814         1.298908        7.986416   \n",
       "min       26.000000         0.000000       13.000000   \n",
       "25%       41.000000         1.000000       31.000000   \n",
       "50%       46.000000         2.000000       36.000000   \n",
       "75%       52.000000         3.000000       40.000000   \n",
       "max       73.000000         5.000000       56.000000   \n",
       "\n",
       "       Total_Relationship_Count  Months_Inactive_12_mon  \\\n",
       "count              10127.000000            10127.000000   \n",
       "mean                   3.812580                2.341167   \n",
       "std                    1.554408                1.010622   \n",
       "min                    1.000000                0.000000   \n",
       "25%                    3.000000                2.000000   \n",
       "50%                    4.000000                2.000000   \n",
       "75%                    5.000000                3.000000   \n",
       "max                    6.000000                6.000000   \n",
       "\n",
       "       Contacts_Count_12_mon  Credit_Limit  Total_Revolving_Bal  \\\n",
       "count           10127.000000  10127.000000         10127.000000   \n",
       "mean                2.455317   8631.953698          1162.814061   \n",
       "std                 1.106225   9088.776650           814.987335   \n",
       "min                 0.000000   1438.300000             0.000000   \n",
       "25%                 2.000000   2555.000000           359.000000   \n",
       "50%                 2.000000   4549.000000          1276.000000   \n",
       "75%                 3.000000  11067.500000          1784.000000   \n",
       "max                 6.000000  34516.000000          2517.000000   \n",
       "\n",
       "       Avg_Open_To_Buy  Total_Amt_Chng_Q4_Q1  Total_Trans_Amt  Total_Trans_Ct  \\\n",
       "count     10127.000000          10127.000000     10127.000000    10127.000000   \n",
       "mean       7469.139637              0.759941      4404.086304       64.858695   \n",
       "std        9090.685324              0.219207      3397.129254       23.472570   \n",
       "min           3.000000              0.000000       510.000000       10.000000   \n",
       "25%        1324.500000              0.631000      2155.500000       45.000000   \n",
       "50%        3474.000000              0.736000      3899.000000       67.000000   \n",
       "75%        9859.000000              0.859000      4741.000000       81.000000   \n",
       "max       34516.000000              3.397000     18484.000000      139.000000   \n",
       "\n",
       "       Total_Ct_Chng_Q4_Q1  Avg_Utilization_Ratio  \n",
       "count         10127.000000           10127.000000  \n",
       "mean              0.712222               0.274894  \n",
       "std               0.238086               0.275691  \n",
       "min               0.000000               0.000000  \n",
       "25%               0.582000               0.023000  \n",
       "50%               0.702000               0.176000  \n",
       "75%               0.818000               0.503000  \n",
       "max               3.714000               0.999000  "
      ]
     },
     "execution_count": 9,
     "metadata": {},
     "output_type": "execute_result"
    }
   ],
   "source": [
    "df.describe()"
   ]
  },
  {
   "cell_type": "code",
   "execution_count": 13,
   "id": "6890009a",
   "metadata": {},
   "outputs": [
    {
     "data": {
      "text/plain": [
       "3128"
      ]
     },
     "execution_count": 13,
     "metadata": {},
     "output_type": "execute_result"
    }
   ],
   "source": [
    "counts = df.Education_Level.value_counts()\n",
    "counts.iloc[0]"
   ]
  },
  {
   "cell_type": "code",
   "execution_count": 11,
   "id": "d0cb1e7d",
   "metadata": {
    "execution": {
     "iopub.execute_input": "2023-04-29T13:29:33.592783Z",
     "iopub.status.busy": "2023-04-29T13:29:33.591751Z",
     "iopub.status.idle": "2023-04-29T13:29:33.623691Z",
     "shell.execute_reply": "2023-04-29T13:29:33.622299Z"
    },
    "papermill": {
     "duration": 0.050668,
     "end_time": "2023-04-29T13:29:33.626754",
     "exception": false,
     "start_time": "2023-04-29T13:29:33.576086",
     "status": "completed"
    },
    "tags": []
   },
   "outputs": [
    {
     "name": "stdout",
     "output_type": "stream",
     "text": [
      "Churn Rate = 16.1%\n"
     ]
    }
   ],
   "source": [
    "# número de clientes perdido y no perdidosn\n",
    "counts = df.Attrition_Flag.value_counts()\n",
    "perc_churn = (counts.iloc[1] / (counts.iloc[0] + counts.iloc[1])) * 100\n",
    "print(f'Churn Rate = {perc_churn:.1f}%')"
   ]
  },
  {
   "cell_type": "code",
   "execution_count": 12,
   "id": "9c9b6978",
   "metadata": {
    "execution": {
     "iopub.execute_input": "2023-04-29T13:29:33.656790Z",
     "iopub.status.busy": "2023-04-29T13:29:33.656369Z",
     "iopub.status.idle": "2023-04-29T13:29:33.665202Z",
     "shell.execute_reply": "2023-04-29T13:29:33.663940Z"
    },
    "papermill": {
     "duration": 0.027655,
     "end_time": "2023-04-29T13:29:33.668416",
     "exception": false,
     "start_time": "2023-04-29T13:29:33.640761",
     "status": "completed"
    },
    "tags": []
   },
   "outputs": [
    {
     "name": "stdout",
     "output_type": "stream",
     "text": [
      "Number of Duplicate Entries: 0\n"
     ]
    }
   ],
   "source": [
    "# número de duplicados\n",
    "duplicates = len(df[df.duplicated()])\n",
    "print(f'Number of Duplicate Entries: {duplicates}')"
   ]
  },
  {
   "cell_type": "code",
   "execution_count": 14,
   "id": "08cb1c04",
   "metadata": {},
   "outputs": [
    {
     "name": "stdout",
     "output_type": "stream",
     "text": [
      "Number of Missing Values: 0\n"
     ]
    }
   ],
   "source": [
    "# número de valores perdidos\n",
    "missing_values = df.isnull().sum().sum()\n",
    "print(f'Number of Missing Values: {missing_values}')"
   ]
  },
  {
   "cell_type": "code",
   "execution_count": 15,
   "id": "e7522be8",
   "metadata": {},
   "outputs": [
    {
     "name": "stdout",
     "output_type": "stream",
     "text": [
      "Number of Features: 20\n",
      "Number of Customers: 10127\n",
      "Data Types and Frequency in Dataset:\n",
      "int64      9\n",
      "object     6\n",
      "float64    5\n",
      "Name: count, dtype: int64\n"
     ]
    }
   ],
   "source": [
    "# Tipos de datos en el dataset\n",
    "types = df.dtypes.value_counts()\n",
    "\n",
    "print('Number of Features: %d'%(df.shape[1]))\n",
    "print('Number of Customers: %d'%(df.shape[0]))\n",
    "print('Data Types and Frequency in Dataset:')\n",
    "print(types)"
   ]
  },
  {
   "cell_type": "markdown",
   "id": "0d9f525f",
   "metadata": {
    "papermill": {
     "duration": 0.020854,
     "end_time": "2023-04-29T13:29:37.075271",
     "exception": false,
     "start_time": "2023-04-29T13:29:37.054417",
     "status": "completed"
    },
    "tags": []
   },
   "source": [
    "## Pre-Processing"
   ]
  },
  {
   "cell_type": "code",
   "execution_count": 16,
   "id": "9ba36a48",
   "metadata": {
    "execution": {
     "iopub.execute_input": "2023-04-29T13:29:37.118344Z",
     "iopub.status.busy": "2023-04-29T13:29:37.117891Z",
     "iopub.status.idle": "2023-04-29T13:29:37.215869Z",
     "shell.execute_reply": "2023-04-29T13:29:37.214861Z"
    },
    "papermill": {
     "duration": 0.122753,
     "end_time": "2023-04-29T13:29:37.218672",
     "exception": false,
     "start_time": "2023-04-29T13:29:37.095919",
     "status": "completed"
    },
    "tags": []
   },
   "outputs": [],
   "source": [
    "# Conversión de características\n",
    "df['Gender'] = df['Gender'].map({'M': 1, 'F': 0})\n",
    "df['Attrition_Flag'] = df['Attrition_Flag'].map({'Attrited Customer': 1, 'Existing Customer': 0})"
   ]
  },
  {
   "cell_type": "code",
   "execution_count": 17,
   "id": "1f45060c",
   "metadata": {},
   "outputs": [
    {
     "name": "stdout",
     "output_type": "stream",
     "text": [
      "New Number of Features: 37\n"
     ]
    }
   ],
   "source": [
    "catcols = df.select_dtypes(exclude = ['int64','float64']).columns\n",
    "intcols = df.select_dtypes(include = ['int64']).columns\n",
    "floatcols = df.select_dtypes(include = ['float64']).columns\n",
    "\n",
    "# codificación \n",
    "df = pd.get_dummies(df, columns = catcols)\n",
    "   \n",
    "print('New Number of Features: %d'%(df.shape[1]))  "
   ]
  },
  {
   "cell_type": "code",
   "execution_count": 18,
   "id": "17fba185",
   "metadata": {},
   "outputs": [],
   "source": [
    "import matplotlib.pyplot as plt"
   ]
  },
  {
   "cell_type": "code",
   "execution_count": 19,
   "id": "45b88068",
   "metadata": {},
   "outputs": [
    {
     "data": {
      "image/png": "[encoded data removed]",
      "text/plain": [
       "<Figure size 1000x600 with 1 Axes>"
      ]
     },
     "metadata": {},
     "output_type": "display_data"
    }
   ],
   "source": [
    "# Crear un boxplot\n",
    "plt.figure(figsize=(10, 6))\n",
    "plt.boxplot(df['Credit_Limit'])\n",
    "plt.title('Boxplot of Credit Limit')\n",
    "plt.ylabel('Credit Limit')\n",
    "plt.show()"
   ]
  },
  {
   "cell_type": "code",
   "execution_count": 20,
   "id": "12bfe72f",
   "metadata": {},
   "outputs": [
    {
     "data": {
      "image/png": "[encoded data removed]",
      "text/plain": [
       "<Figure size 800x600 with 1 Axes>"
      ]
     },
     "metadata": {},
     "output_type": "display_data"
    }
   ],
   "source": [
    "# Crear la gráfica de pastel para visualizar la distribución de géneros\n",
    "gender_counts = df['Gender'].value_counts()\n",
    "plt.figure(figsize=(8, 6))\n",
    "plt.pie(gender_counts, labels=['Hombres', 'Mujeres'], autopct='%1.1f%%', startangle=140, colors=['lightblue', 'lightpink'])\n",
    "plt.title('Distribución de Géneros en el Dataset')\n",
    "plt.axis('equal')  # Para asegurar que la gráfica de pastel sea circular\n",
    "plt.show()"
   ]
  }
 ],
 "metadata": {
  "kernelspec": {
   "display_name": "base",
   "language": "python",
   "name": "python3"
  },
  "language_info": {
   "codemirror_mode": {
    "name": "ipython",
    "version": 3
   },
   "file_extension": ".py",
   "mimetype": "text/x-python",
   "name": "python",
   "nbconvert_exporter": "python",
   "pygments_lexer": "ipython3",
   "version": "3.12.7"
  },
  "papermill": {
   "default_parameters": {},
   "duration": 148.559691,
   "end_time": "2023-04-29T13:31:48.779871",
   "environment_variables": {},
   "exception": null,
   "input_path": "__notebook__.ipynb",
   "output_path": "__notebook__.ipynb",
   "parameters": {},
   "start_time": "2023-04-29T13:29:20.220180",
   "version": "2.4.0"
  }
 },
 "nbformat": 4,
 "nbformat_minor": 5
}
